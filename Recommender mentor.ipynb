{
 "cells": [
  {
   "cell_type": "code",
   "execution_count": 43,
   "id": "10e36e4b",
   "metadata": {},
   "outputs": [],
   "source": [
    "import pandas as pd\n",
    "import numpy as np\n",
    "import tensorflow as tf\n",
    "from tensorflow.keras.layers import Embedding, Dot\n",
    "from tensorflow.keras.models import Model\n",
    "from tensorflow.keras.optimizers import Adam\n",
    "from sklearn.preprocessing import MinMaxScaler\n",
    "from tensorflow.keras.layers import Embedding, Dot, Add, Flatten"
   ]
  },
  {
   "cell_type": "code",
   "execution_count": 44,
   "id": "622c5d08",
   "metadata": {},
   "outputs": [],
   "source": [
    "# Load CSV files\n",
    "user_data = pd.read_csv(\"user_data.csv\")\n",
    "mentor_data = pd.read_csv(\"mentor_data.csv\")\n",
    "content_data = pd.read_csv(\"content_data.csv\")\n",
    "user_interaction_data = pd.read_csv(\"user_interaction_data.csv\")"
   ]
  },
  {
   "cell_type": "code",
   "execution_count": 45,
   "id": "41c336d9",
   "metadata": {},
   "outputs": [],
   "source": [
    "# Preprocess the data\n",
    "user_ids = user_data['user_id'].unique()\n",
    "mentor_ids = mentor_data['mentor_id'].unique()\n",
    "\n",
    "user_id_map = {user_id: idx for idx, user_id in enumerate(user_ids)}\n",
    "mentor_id_map = {mentor_id: idx for idx, mentor_id in enumerate(mentor_ids)}\n",
    "\n",
    "user_interaction_data['user_idx'] = user_interaction_data['user_id'].map(user_id_map)\n",
    "user_interaction_data['mentor_idx'] = user_interaction_data['mentor_id'].map(mentor_id_map)"
   ]
  },
  {
   "cell_type": "code",
   "execution_count": 46,
   "id": "1c5ae789",
   "metadata": {},
   "outputs": [],
   "source": [
    "scaler = MinMaxScaler()\n",
    "y = scaler.fit_transform(user_interaction_data['watch_time'].values.reshape(-1, 1)).flatten()"
   ]
  },
  {
   "cell_type": "code",
   "execution_count": 47,
   "id": "357a8633",
   "metadata": {},
   "outputs": [],
   "source": [
    "# Define the model\n",
    "embedding_dim = 50\n",
    "user_input = tf.keras.Input(shape=(1,))\n",
    "mentor_input = tf.keras.Input(shape=(1,))\n",
    "\n",
    "user_embedding = Embedding(len(user_ids), embedding_dim)(user_input)\n",
    "mentor_embedding = Embedding(len(mentor_ids), embedding_dim)(mentor_input)\n",
    "\n",
    "user_bias = Embedding(len(user_ids), 1)(user_input)\n",
    "mentor_bias = Embedding(len(mentor_ids), 1)(mentor_input)\n",
    "\n",
    "dot_product = Dot(axes=-1)([user_embedding, mentor_embedding])\n",
    "sum_biases = Add()([user_bias, mentor_bias])\n",
    "prediction = Add()([dot_product, sum_biases])\n",
    "prediction = Flatten()(prediction)\n",
    "\n",
    "model = Model(inputs=[user_input, mentor_input], outputs=prediction)\n",
    "model.compile(optimizer=Adam(learning_rate=0.001), loss='mse')"
   ]
  },
  {
   "cell_type": "code",
   "execution_count": 48,
   "id": "66d6878f",
   "metadata": {},
   "outputs": [
    {
     "name": "stdout",
     "output_type": "stream",
     "text": [
      "Epoch 1/50\n",
      "157/157 [==============================] - 1s 933us/step - loss: 0.2512\n",
      "Epoch 2/50\n",
      "157/157 [==============================] - 0s 878us/step - loss: 0.1087\n",
      "Epoch 3/50\n",
      "157/157 [==============================] - 0s 959us/step - loss: 0.0815\n",
      "Epoch 4/50\n",
      "157/157 [==============================] - 0s 926us/step - loss: 0.0792\n",
      "Epoch 5/50\n",
      "157/157 [==============================] - 0s 949us/step - loss: 0.0766\n",
      "Epoch 6/50\n",
      "157/157 [==============================] - 0s 923us/step - loss: 0.0732\n",
      "Epoch 7/50\n",
      "157/157 [==============================] - 0s 903us/step - loss: 0.0693\n",
      "Epoch 8/50\n",
      "157/157 [==============================] - 0s 891us/step - loss: 0.0657\n",
      "Epoch 9/50\n",
      "157/157 [==============================] - 0s 884us/step - loss: 0.0623\n",
      "Epoch 10/50\n",
      "157/157 [==============================] - 0s 901us/step - loss: 0.0594\n",
      "Epoch 11/50\n",
      "157/157 [==============================] - 0s 889us/step - loss: 0.0569\n",
      "Epoch 12/50\n",
      "157/157 [==============================] - 0s 870us/step - loss: 0.0546\n",
      "Epoch 13/50\n",
      "157/157 [==============================] - 0s 905us/step - loss: 0.0527\n",
      "Epoch 14/50\n",
      "157/157 [==============================] - 0s 890us/step - loss: 0.0509\n",
      "Epoch 15/50\n",
      "157/157 [==============================] - 0s 882us/step - loss: 0.0494\n",
      "Epoch 16/50\n",
      "157/157 [==============================] - 0s 895us/step - loss: 0.0481\n",
      "Epoch 17/50\n",
      "157/157 [==============================] - 0s 892us/step - loss: 0.0469\n",
      "Epoch 18/50\n",
      "157/157 [==============================] - 0s 884us/step - loss: 0.0459\n",
      "Epoch 19/50\n",
      "157/157 [==============================] - 0s 923us/step - loss: 0.0450\n",
      "Epoch 20/50\n",
      "157/157 [==============================] - 0s 872us/step - loss: 0.0441\n",
      "Epoch 21/50\n",
      "157/157 [==============================] - 0s 889us/step - loss: 0.0434\n",
      "Epoch 22/50\n",
      "157/157 [==============================] - 0s 905us/step - loss: 0.0428\n",
      "Epoch 23/50\n",
      "157/157 [==============================] - 0s 908us/step - loss: 0.0421\n",
      "Epoch 24/50\n",
      "157/157 [==============================] - 0s 892us/step - loss: 0.0416\n",
      "Epoch 25/50\n",
      "157/157 [==============================] - 0s 904us/step - loss: 0.0410\n",
      "Epoch 26/50\n",
      "157/157 [==============================] - 0s 887us/step - loss: 0.0407\n",
      "Epoch 27/50\n",
      "157/157 [==============================] - 0s 915us/step - loss: 0.0403\n",
      "Epoch 28/50\n",
      "157/157 [==============================] - 0s 901us/step - loss: 0.0399\n",
      "Epoch 29/50\n",
      "157/157 [==============================] - 0s 894us/step - loss: 0.0396\n",
      "Epoch 30/50\n",
      "157/157 [==============================] - 0s 931us/step - loss: 0.0392\n",
      "Epoch 31/50\n",
      "157/157 [==============================] - 0s 885us/step - loss: 0.0390\n",
      "Epoch 32/50\n",
      "157/157 [==============================] - 0s 891us/step - loss: 0.0387\n",
      "Epoch 33/50\n",
      "157/157 [==============================] - 0s 890us/step - loss: 0.0385\n",
      "Epoch 34/50\n",
      "157/157 [==============================] - 0s 880us/step - loss: 0.0383\n",
      "Epoch 35/50\n",
      "157/157 [==============================] - 0s 883us/step - loss: 0.0382\n",
      "Epoch 36/50\n",
      "157/157 [==============================] - 0s 862us/step - loss: 0.0379\n",
      "Epoch 37/50\n",
      "157/157 [==============================] - 0s 866us/step - loss: 0.0378\n",
      "Epoch 38/50\n",
      "157/157 [==============================] - 0s 866us/step - loss: 0.0376\n",
      "Epoch 39/50\n",
      "157/157 [==============================] - 0s 865us/step - loss: 0.0375\n",
      "Epoch 40/50\n",
      "157/157 [==============================] - 0s 881us/step - loss: 0.0374\n",
      "Epoch 41/50\n",
      "157/157 [==============================] - 0s 884us/step - loss: 0.0373\n",
      "Epoch 42/50\n",
      "157/157 [==============================] - 0s 907us/step - loss: 0.0371\n",
      "Epoch 43/50\n",
      "157/157 [==============================] - 0s 887us/step - loss: 0.0371\n",
      "Epoch 44/50\n",
      "157/157 [==============================] - 0s 852us/step - loss: 0.0370\n",
      "Epoch 45/50\n",
      "157/157 [==============================] - 0s 906us/step - loss: 0.0369\n",
      "Epoch 46/50\n",
      "157/157 [==============================] - 0s 891us/step - loss: 0.0368\n",
      "Epoch 47/50\n",
      "157/157 [==============================] - 0s 887us/step - loss: 0.0368\n",
      "Epoch 48/50\n",
      "157/157 [==============================] - 0s 927us/step - loss: 0.0367\n",
      "Epoch 49/50\n",
      "157/157 [==============================] - 0s 856us/step - loss: 0.0366\n",
      "Epoch 50/50\n",
      "157/157 [==============================] - 0s 879us/step - loss: 0.0366\n"
     ]
    },
    {
     "data": {
      "text/plain": [
       "<keras.callbacks.History at 0x21be5e7a920>"
      ]
     },
     "execution_count": 48,
     "metadata": {},
     "output_type": "execute_result"
    }
   ],
   "source": [
    "# Train the model\n",
    "X = user_interaction_data[['user_idx', 'mentor_idx']].values\n",
    "model.fit([X[:, 0], X[:, 1]], y, epochs=50, batch_size=64)"
   ]
  },
  {
   "cell_type": "code",
   "execution_count": 49,
   "id": "410e4489",
   "metadata": {},
   "outputs": [],
   "source": [
    "# Save the model\n",
    "model.save('mentor_recommender.h5')"
   ]
  },
  {
   "cell_type": "code",
   "execution_count": 50,
   "id": "8c244eb3",
   "metadata": {},
   "outputs": [],
   "source": [
    "# Recommend mentors for a specific user\n",
    "def recommend_mentors(user_id, top_k=5):\n",
    "    user_idx = user_id_map[user_id]\n",
    "    user_vector = model.get_layer(index=2).get_weights()[0][user_idx]\n",
    "    \n",
    "    mentor_vectors = model.get_layer(index=3).get_weights()[0]\n",
    "    similarity_scores = np.dot(mentor_vectors, user_vector)\n",
    "    \n",
    "    top_mentor_indices = np.argsort(similarity_scores)[-top_k:][::-1]\n",
    "    top_mentor_ids = [mentor_ids[idx] for idx in top_mentor_indices]\n",
    "    \n",
    "    return top_mentor_ids"
   ]
  },
  {
   "cell_type": "code",
   "execution_count": 52,
   "id": "c9e4c849",
   "metadata": {},
   "outputs": [
    {
     "name": "stdout",
     "output_type": "stream",
     "text": [
      "Top 5 mentors for user 10001 : [20073, 20100, 20046, 20085, 20028]\n"
     ]
    }
   ],
   "source": [
    "# Test the recommender\n",
    "user_id = 10001\n",
    "top_5_mentors = recommend_mentors(user_id)\n",
    "print(\"Top 5 mentors for user\", user_id, \":\", top_5_mentors)"
   ]
  }
 ],
 "metadata": {
  "kernelspec": {
   "display_name": "Python 3 (ipykernel)",
   "language": "python",
   "name": "python3"
  },
  "language_info": {
   "codemirror_mode": {
    "name": "ipython",
    "version": 3
   },
   "file_extension": ".py",
   "mimetype": "text/x-python",
   "name": "python",
   "nbconvert_exporter": "python",
   "pygments_lexer": "ipython3",
   "version": "3.10.11"
  }
 },
 "nbformat": 4,
 "nbformat_minor": 5
}
