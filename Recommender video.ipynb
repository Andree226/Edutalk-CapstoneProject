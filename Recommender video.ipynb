{
 "cells": [
  {
   "cell_type": "code",
   "execution_count": 1,
   "id": "6d7d5efe",
   "metadata": {},
   "outputs": [],
   "source": [
    "import numpy as np\n",
    "import pandas as pd\n",
    "import tensorflow as tf\n",
    "from tensorflow.keras.layers import Dropout, Input, Embedding, Flatten, Dense, Concatenate\n",
    "from tensorflow.keras.models import Model\n",
    "from tensorflow.keras.optimizers import Adam\n",
    "from sklearn.model_selection import train_test_split\n",
    "from sklearn.preprocessing import MinMaxScaler"
   ]
  },
  {
   "cell_type": "code",
   "execution_count": 2,
   "id": "c5b51ccf",
   "metadata": {},
   "outputs": [],
   "source": [
    "# Load and preprocess the data\n",
    "user_interaction = pd.read_csv(\"random_data.csv\")\n",
    "user_interaction['interaction_score'] = user_interaction['likes'] * 3 + user_interaction['comments'] * 1 + user_interaction['save'] * 2\n",
    "user_interaction['normalized_watch_time'] = user_interaction['watch_time_seconds'] / user_interaction['watch_time_seconds'].max()\n",
    "user_interaction['interaction_score'] += user_interaction['normalized_watch_time']\n",
    "interaction_data = user_interaction[['user_id', 'video_id', 'interaction_score']]"
   ]
  },
  {
   "cell_type": "code",
   "execution_count": 6,
   "id": "92144513",
   "metadata": {},
   "outputs": [],
   "source": [
    "# Encode user_id and video_id as categorical variables\n",
    "interaction_data_encoded = interaction_data.copy()\n",
    "interaction_data_encoded['user_id'] = interaction_data_encoded['user_id'].astype('category').cat.codes.values\n",
    "interaction_data_encoded['video_id'] = interaction_data_encoded['video_id'].astype('category').cat.codes.values"
   ]
  },
  {
   "cell_type": "code",
   "execution_count": 7,
   "id": "7e1e0980",
   "metadata": {},
   "outputs": [],
   "source": [
    "# Split the data into training and testing sets\n",
    "train, test = train_test_split(interaction_data_encoded, test_size=0.2, random_state=42)"
   ]
  },
  {
   "cell_type": "code",
   "execution_count": 8,
   "id": "6ae30080",
   "metadata": {},
   "outputs": [],
   "source": [
    "# Scale the interaction_score to the range [0, 1]\n",
    "scaler = MinMaxScaler()\n",
    "train['interaction_score'] = scaler.fit_transform(train[['interaction_score']])\n",
    "test['interaction_score'] = scaler.transform(test[['interaction_score']])"
   ]
  },
  {
   "cell_type": "code",
   "execution_count": 9,
   "id": "ce599c23",
   "metadata": {},
   "outputs": [],
   "source": [
    "# Define the neural network model\n",
    "user_input = Input(shape=(1,), name='user_input')\n",
    "user_embedding = Embedding(input_dim=len(interaction_data['user_id'].unique()), output_dim=50, name='user_embedding')(user_input)\n",
    "user_flatten = Flatten(name='user_flatten')(user_embedding)\n",
    "\n",
    "video_input = Input(shape=(1,), name='video_input')\n",
    "video_embedding = Embedding(input_dim=len(interaction_data['video_id'].unique()), output_dim=50, name='video_embedding')(video_input)\n",
    "video_flatten = Flatten(name='video_flatten')(video_embedding)\n",
    "\n",
    "concat = Concatenate(name='concat')([user_flatten, video_flatten])\n",
    "dense = Dense(128, activation='relu', name='dense')(concat)\n",
    "dropout = Dropout(0.5)(dense)\n",
    "output = Dense(1, activation='sigmoid', name='output')(dense)\n",
    "\n",
    "model = Model(inputs=[user_input, video_input], outputs=output)\n",
    "model.compile(optimizer=Adam(learning_rate=0.001), loss='mean_squared_error')"
   ]
  },
  {
   "cell_type": "code",
   "execution_count": 10,
   "id": "32ef38bf",
   "metadata": {},
   "outputs": [
    {
     "name": "stdout",
     "output_type": "stream",
     "text": [
      "Epoch 1/50\n",
      "100/100 [==============================] - 1s 2ms/step - loss: 0.0745 - val_loss: 0.0760\n",
      "Epoch 2/50\n",
      "100/100 [==============================] - 0s 1ms/step - loss: 0.0725 - val_loss: 0.0778\n",
      "Epoch 3/50\n",
      "100/100 [==============================] - 0s 1ms/step - loss: 0.0700 - val_loss: 0.0790\n",
      "Epoch 4/50\n",
      "100/100 [==============================] - 0s 1ms/step - loss: 0.0668 - val_loss: 0.0802\n",
      "Epoch 5/50\n",
      "100/100 [==============================] - 0s 1ms/step - loss: 0.0627 - val_loss: 0.0829\n",
      "Epoch 6/50\n",
      "100/100 [==============================] - 0s 1ms/step - loss: 0.0570 - val_loss: 0.0840\n",
      "Epoch 7/50\n",
      "100/100 [==============================] - 0s 1ms/step - loss: 0.0508 - val_loss: 0.0900\n",
      "Epoch 8/50\n",
      "100/100 [==============================] - 0s 1ms/step - loss: 0.0444 - val_loss: 0.0932\n",
      "Epoch 9/50\n",
      "100/100 [==============================] - 0s 1ms/step - loss: 0.0391 - val_loss: 0.0991\n",
      "Epoch 10/50\n",
      "100/100 [==============================] - 0s 1ms/step - loss: 0.0342 - val_loss: 0.1009\n",
      "Epoch 11/50\n",
      "100/100 [==============================] - 0s 1ms/step - loss: 0.0304 - val_loss: 0.1044\n",
      "Epoch 12/50\n",
      "100/100 [==============================] - 0s 2ms/step - loss: 0.0272 - val_loss: 0.1072\n",
      "Epoch 13/50\n",
      "100/100 [==============================] - 0s 1ms/step - loss: 0.0245 - val_loss: 0.1106\n",
      "Epoch 14/50\n",
      "100/100 [==============================] - 0s 1ms/step - loss: 0.0222 - val_loss: 0.1132\n",
      "Epoch 15/50\n",
      "100/100 [==============================] - 0s 1ms/step - loss: 0.0203 - val_loss: 0.1152\n",
      "Epoch 16/50\n",
      "100/100 [==============================] - 0s 1ms/step - loss: 0.0186 - val_loss: 0.1167\n",
      "Epoch 17/50\n",
      "100/100 [==============================] - 0s 1ms/step - loss: 0.0171 - val_loss: 0.1192\n",
      "Epoch 18/50\n",
      "100/100 [==============================] - 0s 1ms/step - loss: 0.0160 - val_loss: 0.1215\n",
      "Epoch 19/50\n",
      "100/100 [==============================] - 0s 1ms/step - loss: 0.0148 - val_loss: 0.1210\n",
      "Epoch 20/50\n",
      "100/100 [==============================] - 0s 1ms/step - loss: 0.0138 - val_loss: 0.1247\n",
      "Epoch 21/50\n",
      "100/100 [==============================] - 0s 1ms/step - loss: 0.0132 - val_loss: 0.1259\n",
      "Epoch 22/50\n",
      "100/100 [==============================] - 0s 1ms/step - loss: 0.0123 - val_loss: 0.1261\n",
      "Epoch 23/50\n",
      "100/100 [==============================] - 0s 1ms/step - loss: 0.0117 - val_loss: 0.1271\n",
      "Epoch 24/50\n",
      "100/100 [==============================] - 0s 1ms/step - loss: 0.0110 - val_loss: 0.1292\n",
      "Epoch 25/50\n",
      "100/100 [==============================] - 0s 1ms/step - loss: 0.0107 - val_loss: 0.1308\n",
      "Epoch 26/50\n",
      "100/100 [==============================] - 0s 1ms/step - loss: 0.0103 - val_loss: 0.1308\n",
      "Epoch 27/50\n",
      "100/100 [==============================] - 0s 1ms/step - loss: 0.0099 - val_loss: 0.1316\n",
      "Epoch 28/50\n",
      "100/100 [==============================] - 0s 1ms/step - loss: 0.0095 - val_loss: 0.1326\n",
      "Epoch 29/50\n",
      "100/100 [==============================] - 0s 1ms/step - loss: 0.0093 - val_loss: 0.1327\n",
      "Epoch 30/50\n",
      "100/100 [==============================] - 0s 1ms/step - loss: 0.0092 - val_loss: 0.1326\n",
      "Epoch 31/50\n",
      "100/100 [==============================] - 0s 1ms/step - loss: 0.0088 - val_loss: 0.1354\n",
      "Epoch 32/50\n",
      "100/100 [==============================] - 0s 1ms/step - loss: 0.0088 - val_loss: 0.1348\n",
      "Epoch 33/50\n",
      "100/100 [==============================] - 0s 1ms/step - loss: 0.0086 - val_loss: 0.1337\n",
      "Epoch 34/50\n",
      "100/100 [==============================] - 0s 1ms/step - loss: 0.0086 - val_loss: 0.1352\n",
      "Epoch 35/50\n",
      "100/100 [==============================] - 0s 1ms/step - loss: 0.0084 - val_loss: 0.1346\n",
      "Epoch 36/50\n",
      "100/100 [==============================] - 0s 1ms/step - loss: 0.0083 - val_loss: 0.1351\n",
      "Epoch 37/50\n",
      "100/100 [==============================] - 0s 1ms/step - loss: 0.0082 - val_loss: 0.1372\n",
      "Epoch 38/50\n",
      "100/100 [==============================] - 0s 1ms/step - loss: 0.0080 - val_loss: 0.1363\n",
      "Epoch 39/50\n",
      "100/100 [==============================] - 0s 1ms/step - loss: 0.0081 - val_loss: 0.1368\n",
      "Epoch 40/50\n",
      "100/100 [==============================] - 0s 1ms/step - loss: 0.0079 - val_loss: 0.1364\n",
      "Epoch 41/50\n",
      "100/100 [==============================] - 0s 1ms/step - loss: 0.0080 - val_loss: 0.1363\n",
      "Epoch 42/50\n",
      "100/100 [==============================] - 0s 1ms/step - loss: 0.0078 - val_loss: 0.1375\n",
      "Epoch 43/50\n",
      "100/100 [==============================] - 0s 1ms/step - loss: 0.0079 - val_loss: 0.1372\n",
      "Epoch 44/50\n",
      "100/100 [==============================] - 0s 1ms/step - loss: 0.0077 - val_loss: 0.1366\n",
      "Epoch 45/50\n",
      "100/100 [==============================] - 0s 1ms/step - loss: 0.0076 - val_loss: 0.1369\n",
      "Epoch 46/50\n",
      "100/100 [==============================] - 0s 1ms/step - loss: 0.0077 - val_loss: 0.1385\n",
      "Epoch 47/50\n",
      "100/100 [==============================] - 0s 1ms/step - loss: 0.0076 - val_loss: 0.1379\n",
      "Epoch 48/50\n",
      "100/100 [==============================] - 0s 2ms/step - loss: 0.0076 - val_loss: 0.1364\n",
      "Epoch 49/50\n",
      "100/100 [==============================] - 0s 1ms/step - loss: 0.0076 - val_loss: 0.1388\n",
      "Epoch 50/50\n",
      "100/100 [==============================] - 0s 1ms/step - loss: 0.0075 - val_loss: 0.1378\n"
     ]
    },
    {
     "data": {
      "text/plain": [
       "<keras.callbacks.History at 0x14a59ec6bf0>"
      ]
     },
     "execution_count": 10,
     "metadata": {},
     "output_type": "execute_result"
    }
   ],
   "source": [
    "# Train the model\n",
    "model.fit([train['user_id'], train['video_id']], train['interaction_score'], epochs=50, batch_size=64, validation_split=0.2)"
   ]
  },
  {
   "cell_type": "code",
   "execution_count": 11,
   "id": "4e3f6f8e",
   "metadata": {},
   "outputs": [],
   "source": [
    "# Save the model to an .h5 file\n",
    "model.save('video_recommender.h5')"
   ]
  },
  {
   "cell_type": "code",
   "execution_count": 12,
   "id": "32ca133d",
   "metadata": {},
   "outputs": [],
   "source": [
    "# Load the model\n",
    "loaded_model = tf.keras.models.load_model('video_recommender.h5')"
   ]
  },
  {
   "cell_type": "code",
   "execution_count": 13,
   "id": "c1aa3d89",
   "metadata": {},
   "outputs": [
    {
     "name": "stdout",
     "output_type": "stream",
     "text": [
      "16/16 [==============================] - 0s 968us/step\n",
      "[359, 301, 454, 163, 411, 154, 236, 193, 363, 216, 409, 157, 475, 365, 49, 206, 147, 317, 491, 261]\n"
     ]
    }
   ],
   "source": [
    "def get_top_20_recommendations(user_id, model, interaction_data):\n",
    "    video_ids = interaction_data['video_id'].unique()\n",
    "    user_ids = np.array([user_id] * len(video_ids))\n",
    "    predictions = model.predict([user_ids, video_ids])\n",
    "    sorted_indices = np.argsort(predictions.flatten())[::-1]\n",
    "    return video_ids[sorted_indices[:20]].flatten().tolist()\n",
    "\n",
    "user_id = 10099\n",
    "user_num = user_id-10000\n",
    "top_20_recommendations = get_top_20_recommendations(user_num, loaded_model, interaction_data_encoded)\n",
    "print(top_20_recommendations)"
   ]
  },
  {
   "cell_type": "code",
   "execution_count": null,
   "id": "4e5d6284",
   "metadata": {},
   "outputs": [],
   "source": []
  }
 ],
 "metadata": {
  "kernelspec": {
   "display_name": "Python 3 (ipykernel)",
   "language": "python",
   "name": "python3"
  },
  "language_info": {
   "codemirror_mode": {
    "name": "ipython",
    "version": 3
   },
   "file_extension": ".py",
   "mimetype": "text/x-python",
   "name": "python",
   "nbconvert_exporter": "python",
   "pygments_lexer": "ipython3",
   "version": "3.10.11"
  }
 },
 "nbformat": 4,
 "nbformat_minor": 5
}
